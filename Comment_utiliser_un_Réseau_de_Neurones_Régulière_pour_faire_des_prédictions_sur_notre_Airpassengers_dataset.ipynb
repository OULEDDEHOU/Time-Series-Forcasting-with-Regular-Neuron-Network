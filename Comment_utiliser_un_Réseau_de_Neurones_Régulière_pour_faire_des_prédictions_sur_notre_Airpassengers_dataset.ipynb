{
  "nbformat": 4,
  "nbformat_minor": 0,
  "metadata": {
    "colab": {
      "provenance": [],
      "authorship_tag": "ABX9TyOjYz+G0sL1iZ+k9Ho3HAxs",
      "include_colab_link": true
    },
    "kernelspec": {
      "name": "python3",
      "display_name": "Python 3"
    },
    "language_info": {
      "name": "python"
    }
  },
  "cells": [
    {
      "cell_type": "markdown",
      "metadata": {
        "id": "view-in-github",
        "colab_type": "text"
      },
      "source": [
        "<a href=\"https://colab.research.google.com/github/OULEDDEHOU/Time-Series-Forcasting-with-Regular-Neuron-Network/blob/main/Comment_utiliser_un_R%C3%A9seau_de_Neurones_R%C3%A9guli%C3%A8re_pour_faire_des_pr%C3%A9dictions_sur_notre_Airpassengers_dataset.ipynb\" target=\"_parent\"><img src=\"https://colab.research.google.com/assets/colab-badge.svg\" alt=\"Open In Colab\"/></a>"
      ]
    },
    {
      "cell_type": "code",
      "execution_count": null,
      "metadata": {
        "id": "7cPK2tPfYCq3"
      },
      "outputs": [],
      "source": [
        "import numpy as np\n",
        "import matplotlib.pyplot as plt\n",
        "import pandas as pd\n",
        "import math\n",
        "from keras.models import Sequential\n",
        "from keras.layers import Dense\n",
        "from sklearn.preprocessing import MinMaxScaler\n",
        "from sklearn.metrics import mean_squared_error"
      ]
    },
    {
      "cell_type": "code",
      "source": [
        "from  google.colab import files\n",
        "import io"
      ],
      "metadata": {
        "id": "E2fn16oxYRu1"
      },
      "execution_count": null,
      "outputs": []
    },
    {
      "cell_type": "code",
      "source": [
        "uploaded = files.upload()"
      ],
      "metadata": {
        "colab": {
          "base_uri": "https://localhost:8080/",
          "height": 73
        },
        "id": "5E6S6g1LYXSq",
        "outputId": "faad6e06-4c2b-4456-96fe-1ee10e82f4bf"
      },
      "execution_count": null,
      "outputs": [
        {
          "output_type": "display_data",
          "data": {
            "text/plain": [
              "<IPython.core.display.HTML object>"
            ],
            "text/html": [
              "\n",
              "     <input type=\"file\" id=\"files-a7b53e06-b840-4fdd-b029-3da6bb7ffd10\" name=\"files[]\" multiple disabled\n",
              "        style=\"border:none\" />\n",
              "     <output id=\"result-a7b53e06-b840-4fdd-b029-3da6bb7ffd10\">\n",
              "      Upload widget is only available when the cell has been executed in the\n",
              "      current browser session. Please rerun this cell to enable.\n",
              "      </output>\n",
              "      <script>// Copyright 2017 Google LLC\n",
              "//\n",
              "// Licensed under the Apache License, Version 2.0 (the \"License\");\n",
              "// you may not use this file except in compliance with the License.\n",
              "// You may obtain a copy of the License at\n",
              "//\n",
              "//      http://www.apache.org/licenses/LICENSE-2.0\n",
              "//\n",
              "// Unless required by applicable law or agreed to in writing, software\n",
              "// distributed under the License is distributed on an \"AS IS\" BASIS,\n",
              "// WITHOUT WARRANTIES OR CONDITIONS OF ANY KIND, either express or implied.\n",
              "// See the License for the specific language governing permissions and\n",
              "// limitations under the License.\n",
              "\n",
              "/**\n",
              " * @fileoverview Helpers for google.colab Python module.\n",
              " */\n",
              "(function(scope) {\n",
              "function span(text, styleAttributes = {}) {\n",
              "  const element = document.createElement('span');\n",
              "  element.textContent = text;\n",
              "  for (const key of Object.keys(styleAttributes)) {\n",
              "    element.style[key] = styleAttributes[key];\n",
              "  }\n",
              "  return element;\n",
              "}\n",
              "\n",
              "// Max number of bytes which will be uploaded at a time.\n",
              "const MAX_PAYLOAD_SIZE = 100 * 1024;\n",
              "\n",
              "function _uploadFiles(inputId, outputId) {\n",
              "  const steps = uploadFilesStep(inputId, outputId);\n",
              "  const outputElement = document.getElementById(outputId);\n",
              "  // Cache steps on the outputElement to make it available for the next call\n",
              "  // to uploadFilesContinue from Python.\n",
              "  outputElement.steps = steps;\n",
              "\n",
              "  return _uploadFilesContinue(outputId);\n",
              "}\n",
              "\n",
              "// This is roughly an async generator (not supported in the browser yet),\n",
              "// where there are multiple asynchronous steps and the Python side is going\n",
              "// to poll for completion of each step.\n",
              "// This uses a Promise to block the python side on completion of each step,\n",
              "// then passes the result of the previous step as the input to the next step.\n",
              "function _uploadFilesContinue(outputId) {\n",
              "  const outputElement = document.getElementById(outputId);\n",
              "  const steps = outputElement.steps;\n",
              "\n",
              "  const next = steps.next(outputElement.lastPromiseValue);\n",
              "  return Promise.resolve(next.value.promise).then((value) => {\n",
              "    // Cache the last promise value to make it available to the next\n",
              "    // step of the generator.\n",
              "    outputElement.lastPromiseValue = value;\n",
              "    return next.value.response;\n",
              "  });\n",
              "}\n",
              "\n",
              "/**\n",
              " * Generator function which is called between each async step of the upload\n",
              " * process.\n",
              " * @param {string} inputId Element ID of the input file picker element.\n",
              " * @param {string} outputId Element ID of the output display.\n",
              " * @return {!Iterable<!Object>} Iterable of next steps.\n",
              " */\n",
              "function* uploadFilesStep(inputId, outputId) {\n",
              "  const inputElement = document.getElementById(inputId);\n",
              "  inputElement.disabled = false;\n",
              "\n",
              "  const outputElement = document.getElementById(outputId);\n",
              "  outputElement.innerHTML = '';\n",
              "\n",
              "  const pickedPromise = new Promise((resolve) => {\n",
              "    inputElement.addEventListener('change', (e) => {\n",
              "      resolve(e.target.files);\n",
              "    });\n",
              "  });\n",
              "\n",
              "  const cancel = document.createElement('button');\n",
              "  inputElement.parentElement.appendChild(cancel);\n",
              "  cancel.textContent = 'Cancel upload';\n",
              "  const cancelPromise = new Promise((resolve) => {\n",
              "    cancel.onclick = () => {\n",
              "      resolve(null);\n",
              "    };\n",
              "  });\n",
              "\n",
              "  // Wait for the user to pick the files.\n",
              "  const files = yield {\n",
              "    promise: Promise.race([pickedPromise, cancelPromise]),\n",
              "    response: {\n",
              "      action: 'starting',\n",
              "    }\n",
              "  };\n",
              "\n",
              "  cancel.remove();\n",
              "\n",
              "  // Disable the input element since further picks are not allowed.\n",
              "  inputElement.disabled = true;\n",
              "\n",
              "  if (!files) {\n",
              "    return {\n",
              "      response: {\n",
              "        action: 'complete',\n",
              "      }\n",
              "    };\n",
              "  }\n",
              "\n",
              "  for (const file of files) {\n",
              "    const li = document.createElement('li');\n",
              "    li.append(span(file.name, {fontWeight: 'bold'}));\n",
              "    li.append(span(\n",
              "        `(${file.type || 'n/a'}) - ${file.size} bytes, ` +\n",
              "        `last modified: ${\n",
              "            file.lastModifiedDate ? file.lastModifiedDate.toLocaleDateString() :\n",
              "                                    'n/a'} - `));\n",
              "    const percent = span('0% done');\n",
              "    li.appendChild(percent);\n",
              "\n",
              "    outputElement.appendChild(li);\n",
              "\n",
              "    const fileDataPromise = new Promise((resolve) => {\n",
              "      const reader = new FileReader();\n",
              "      reader.onload = (e) => {\n",
              "        resolve(e.target.result);\n",
              "      };\n",
              "      reader.readAsArrayBuffer(file);\n",
              "    });\n",
              "    // Wait for the data to be ready.\n",
              "    let fileData = yield {\n",
              "      promise: fileDataPromise,\n",
              "      response: {\n",
              "        action: 'continue',\n",
              "      }\n",
              "    };\n",
              "\n",
              "    // Use a chunked sending to avoid message size limits. See b/62115660.\n",
              "    let position = 0;\n",
              "    do {\n",
              "      const length = Math.min(fileData.byteLength - position, MAX_PAYLOAD_SIZE);\n",
              "      const chunk = new Uint8Array(fileData, position, length);\n",
              "      position += length;\n",
              "\n",
              "      const base64 = btoa(String.fromCharCode.apply(null, chunk));\n",
              "      yield {\n",
              "        response: {\n",
              "          action: 'append',\n",
              "          file: file.name,\n",
              "          data: base64,\n",
              "        },\n",
              "      };\n",
              "\n",
              "      let percentDone = fileData.byteLength === 0 ?\n",
              "          100 :\n",
              "          Math.round((position / fileData.byteLength) * 100);\n",
              "      percent.textContent = `${percentDone}% done`;\n",
              "\n",
              "    } while (position < fileData.byteLength);\n",
              "  }\n",
              "\n",
              "  // All done.\n",
              "  yield {\n",
              "    response: {\n",
              "      action: 'complete',\n",
              "    }\n",
              "  };\n",
              "}\n",
              "\n",
              "scope.google = scope.google || {};\n",
              "scope.google.colab = scope.google.colab || {};\n",
              "scope.google.colab._files = {\n",
              "  _uploadFiles,\n",
              "  _uploadFilesContinue,\n",
              "};\n",
              "})(self);\n",
              "</script> "
            ]
          },
          "metadata": {}
        },
        {
          "output_type": "stream",
          "name": "stdout",
          "text": [
            "Saving AirPassengers.csv to AirPassengers.csv\n"
          ]
        }
      ]
    },
    {
      "cell_type": "code",
      "source": [
        "data = pd.read_csv(io.BytesIO(uploaded['AirPassengers.csv']),usecols=[1]) "
      ],
      "metadata": {
        "id": "EBVlCzEJYcLq"
      },
      "execution_count": null,
      "outputs": []
    },
    {
      "cell_type": "code",
      "source": [
        "print(data.dtypes)"
      ],
      "metadata": {
        "colab": {
          "base_uri": "https://localhost:8080/"
        },
        "id": "KTJr12egYmF9",
        "outputId": "4a4d1b03-6650-43a3-a045-e4dbe7ffa671"
      },
      "execution_count": null,
      "outputs": [
        {
          "output_type": "stream",
          "name": "stdout",
          "text": [
            "#Passengers    int64\n",
            "dtype: object\n"
          ]
        }
      ]
    },
    {
      "cell_type": "code",
      "source": [
        "data = data.rename(columns={\"#Passengers\":\"Passengers\"})"
      ],
      "metadata": {
        "id": "0K-_SjWqYu4A"
      },
      "execution_count": null,
      "outputs": []
    },
    {
      "cell_type": "code",
      "source": [
        "data.head(5)"
      ],
      "metadata": {
        "colab": {
          "base_uri": "https://localhost:8080/",
          "height": 206
        },
        "id": "2XTbpoSlY6GY",
        "outputId": "cbc9b02f-fc5c-4915-ea5c-f7ce2184e610"
      },
      "execution_count": null,
      "outputs": [
        {
          "output_type": "execute_result",
          "data": {
            "text/plain": [
              "   Passengers\n",
              "0         112\n",
              "1         118\n",
              "2         132\n",
              "3         129\n",
              "4         121"
            ],
            "text/html": [
              "\n",
              "  <div id=\"df-3f45b485-2e4c-4a7c-b90e-22df2f7ed0a1\">\n",
              "    <div class=\"colab-df-container\">\n",
              "      <div>\n",
              "<style scoped>\n",
              "    .dataframe tbody tr th:only-of-type {\n",
              "        vertical-align: middle;\n",
              "    }\n",
              "\n",
              "    .dataframe tbody tr th {\n",
              "        vertical-align: top;\n",
              "    }\n",
              "\n",
              "    .dataframe thead th {\n",
              "        text-align: right;\n",
              "    }\n",
              "</style>\n",
              "<table border=\"1\" class=\"dataframe\">\n",
              "  <thead>\n",
              "    <tr style=\"text-align: right;\">\n",
              "      <th></th>\n",
              "      <th>Passengers</th>\n",
              "    </tr>\n",
              "  </thead>\n",
              "  <tbody>\n",
              "    <tr>\n",
              "      <th>0</th>\n",
              "      <td>112</td>\n",
              "    </tr>\n",
              "    <tr>\n",
              "      <th>1</th>\n",
              "      <td>118</td>\n",
              "    </tr>\n",
              "    <tr>\n",
              "      <th>2</th>\n",
              "      <td>132</td>\n",
              "    </tr>\n",
              "    <tr>\n",
              "      <th>3</th>\n",
              "      <td>129</td>\n",
              "    </tr>\n",
              "    <tr>\n",
              "      <th>4</th>\n",
              "      <td>121</td>\n",
              "    </tr>\n",
              "  </tbody>\n",
              "</table>\n",
              "</div>\n",
              "      <button class=\"colab-df-convert\" onclick=\"convertToInteractive('df-3f45b485-2e4c-4a7c-b90e-22df2f7ed0a1')\"\n",
              "              title=\"Convert this dataframe to an interactive table.\"\n",
              "              style=\"display:none;\">\n",
              "        \n",
              "  <svg xmlns=\"http://www.w3.org/2000/svg\" height=\"24px\"viewBox=\"0 0 24 24\"\n",
              "       width=\"24px\">\n",
              "    <path d=\"M0 0h24v24H0V0z\" fill=\"none\"/>\n",
              "    <path d=\"M18.56 5.44l.94 2.06.94-2.06 2.06-.94-2.06-.94-.94-2.06-.94 2.06-2.06.94zm-11 1L8.5 8.5l.94-2.06 2.06-.94-2.06-.94L8.5 2.5l-.94 2.06-2.06.94zm10 10l.94 2.06.94-2.06 2.06-.94-2.06-.94-.94-2.06-.94 2.06-2.06.94z\"/><path d=\"M17.41 7.96l-1.37-1.37c-.4-.4-.92-.59-1.43-.59-.52 0-1.04.2-1.43.59L10.3 9.45l-7.72 7.72c-.78.78-.78 2.05 0 2.83L4 21.41c.39.39.9.59 1.41.59.51 0 1.02-.2 1.41-.59l7.78-7.78 2.81-2.81c.8-.78.8-2.07 0-2.86zM5.41 20L4 18.59l7.72-7.72 1.47 1.35L5.41 20z\"/>\n",
              "  </svg>\n",
              "      </button>\n",
              "      \n",
              "  <style>\n",
              "    .colab-df-container {\n",
              "      display:flex;\n",
              "      flex-wrap:wrap;\n",
              "      gap: 12px;\n",
              "    }\n",
              "\n",
              "    .colab-df-convert {\n",
              "      background-color: #E8F0FE;\n",
              "      border: none;\n",
              "      border-radius: 50%;\n",
              "      cursor: pointer;\n",
              "      display: none;\n",
              "      fill: #1967D2;\n",
              "      height: 32px;\n",
              "      padding: 0 0 0 0;\n",
              "      width: 32px;\n",
              "    }\n",
              "\n",
              "    .colab-df-convert:hover {\n",
              "      background-color: #E2EBFA;\n",
              "      box-shadow: 0px 1px 2px rgba(60, 64, 67, 0.3), 0px 1px 3px 1px rgba(60, 64, 67, 0.15);\n",
              "      fill: #174EA6;\n",
              "    }\n",
              "\n",
              "    [theme=dark] .colab-df-convert {\n",
              "      background-color: #3B4455;\n",
              "      fill: #D2E3FC;\n",
              "    }\n",
              "\n",
              "    [theme=dark] .colab-df-convert:hover {\n",
              "      background-color: #434B5C;\n",
              "      box-shadow: 0px 1px 3px 1px rgba(0, 0, 0, 0.15);\n",
              "      filter: drop-shadow(0px 1px 2px rgba(0, 0, 0, 0.3));\n",
              "      fill: #FFFFFF;\n",
              "    }\n",
              "  </style>\n",
              "\n",
              "      <script>\n",
              "        const buttonEl =\n",
              "          document.querySelector('#df-3f45b485-2e4c-4a7c-b90e-22df2f7ed0a1 button.colab-df-convert');\n",
              "        buttonEl.style.display =\n",
              "          google.colab.kernel.accessAllowed ? 'block' : 'none';\n",
              "\n",
              "        async function convertToInteractive(key) {\n",
              "          const element = document.querySelector('#df-3f45b485-2e4c-4a7c-b90e-22df2f7ed0a1');\n",
              "          const dataTable =\n",
              "            await google.colab.kernel.invokeFunction('convertToInteractive',\n",
              "                                                     [key], {});\n",
              "          if (!dataTable) return;\n",
              "\n",
              "          const docLinkHtml = 'Like what you see? Visit the ' +\n",
              "            '<a target=\"_blank\" href=https://colab.research.google.com/notebooks/data_table.ipynb>data table notebook</a>'\n",
              "            + ' to learn more about interactive tables.';\n",
              "          element.innerHTML = '';\n",
              "          dataTable['output_type'] = 'display_data';\n",
              "          await google.colab.output.renderOutput(dataTable, element);\n",
              "          const docLink = document.createElement('div');\n",
              "          docLink.innerHTML = docLinkHtml;\n",
              "          element.appendChild(docLink);\n",
              "        }\n",
              "      </script>\n",
              "    </div>\n",
              "  </div>\n",
              "  "
            ]
          },
          "metadata": {},
          "execution_count": 7
        }
      ]
    },
    {
      "cell_type": "code",
      "source": [
        "dataset = data.values\n",
        "dataset = dataset.astype('float32')"
      ],
      "metadata": {
        "id": "R14Vji7NY75i"
      },
      "execution_count": null,
      "outputs": []
    },
    {
      "cell_type": "code",
      "source": [
        "plt.plot(dataset,c=\"r\")"
      ],
      "metadata": {
        "colab": {
          "base_uri": "https://localhost:8080/",
          "height": 282
        },
        "id": "qJhhJtpEZKZS",
        "outputId": "e2e59ead-59c9-4a49-af3b-f3593bda64b1"
      },
      "execution_count": null,
      "outputs": [
        {
          "output_type": "execute_result",
          "data": {
            "text/plain": [
              "[<matplotlib.lines.Line2D at 0x7f6eb31ce700>]"
            ]
          },
          "metadata": {},
          "execution_count": 9
        },
        {
          "output_type": "display_data",
          "data": {
            "text/plain": [
              "<Figure size 432x288 with 1 Axes>"
            ],
            "image/png": "[encoded data removed]"
          },
          "metadata": {
            "needs_background": "light"
          }
        }
      ]
    },
    {
      "cell_type": "code",
      "source": [
        "scaler = MinMaxScaler(feature_range=(0,1))\n",
        "dataset = scaler.fit_transform(dataset)"
      ],
      "metadata": {
        "id": "tPRcSLlFZPxm"
      },
      "execution_count": null,
      "outputs": []
    },
    {
      "cell_type": "code",
      "source": [
        "train_size = int(len(dataset)*0.66)\n",
        "train,test = dataset[:train_size],dataset[train_size:]"
      ],
      "metadata": {
        "id": "4DuQ4hiIZld-"
      },
      "execution_count": null,
      "outputs": []
    },
    {
      "cell_type": "code",
      "source": [
        "def to_sequences(dataframe , seq_size = 1):\n",
        "    X = []\n",
        "    y = []\n",
        "    for i in range(len(dataframe)-seq_size-1):\n",
        "        w = dataframe[i:(i+seq_size),0]\n",
        "        X.append(w)\n",
        "        y.append(dataframe[i+seq_size,0])\n",
        "        \n",
        "    return np.array(X),np.array(y)"
      ],
      "metadata": {
        "id": "ONOwQFBOZ5Vk"
      },
      "execution_count": null,
      "outputs": []
    },
    {
      "cell_type": "code",
      "source": [
        "seq_size = 5"
      ],
      "metadata": {
        "id": "Yl--ltreaC8F"
      },
      "execution_count": null,
      "outputs": []
    },
    {
      "cell_type": "code",
      "source": [
        "train_X,train_y = to_sequences(train , seq_size)\n",
        "test_X,test_y = to_sequences(test , seq_size)"
      ],
      "metadata": {
        "id": "c0G2Vu7paWL9"
      },
      "execution_count": null,
      "outputs": []
    },
    {
      "cell_type": "code",
      "source": [
        "model = Sequential()\n",
        "model.add(Dense(70,input_dim=seq_size , activation='relu'))\n",
        "model.add(Dense(35, activation='relu'))\n",
        "model.add(Dense(1))\n",
        "model.compile(loss='mean_squared_error',optimizer='adam',metrics=['acc'])\n",
        "print(model.summary())"
      ],
      "metadata": {
        "colab": {
          "base_uri": "https://localhost:8080/"
        },
        "id": "mHHLd7xsasqv",
        "outputId": "8669cc0c-85e0-4902-ef98-71e87d21b051"
      },
      "execution_count": null,
      "outputs": [
        {
          "output_type": "stream",
          "name": "stdout",
          "text": [
            "Model: \"sequential_1\"\n",
            "_________________________________________________________________\n",
            " Layer (type)                Output Shape              Param #   \n",
            "=================================================================\n",
            " dense (Dense)               (None, 70)                420       \n",
            "                                                                 \n",
            " dense_1 (Dense)             (None, 35)                2485      \n",
            "                                                                 \n",
            " dense_2 (Dense)             (None, 1)                 36        \n",
            "                                                                 \n",
            "=================================================================\n",
            "Total params: 2,941\n",
            "Trainable params: 2,941\n",
            "Non-trainable params: 0\n",
            "_________________________________________________________________\n",
            "None\n"
          ]
        }
      ]
    },
    {
      "cell_type": "code",
      "source": [
        "model.fit(train_X,train_y,validation_data=(test_X,test_y), verbose=2,epochs=100)"
      ],
      "metadata": {
        "colab": {
          "base_uri": "https://localhost:8080/"
        },
        "id": "V0cFbptJa05P",
        "outputId": "622e26f1-5da9-4438-d063-c7715516a4cb"
      },
      "execution_count": null,
      "outputs": [
        {
          "output_type": "stream",
          "name": "stdout",
          "text": [
            "Epoch 1/100\n",
            "3/3 - 1s - loss: 0.0909 - acc: 0.0112 - val_loss: 0.4455 - val_acc: 0.0000e+00 - 1s/epoch - 435ms/step\n",
            "Epoch 2/100\n",
            "3/3 - 0s - loss: 0.0622 - acc: 0.0112 - val_loss: 0.3044 - val_acc: 0.0000e+00 - 33ms/epoch - 11ms/step\n",
            "Epoch 3/100\n",
            "3/3 - 0s - loss: 0.0384 - acc: 0.0112 - val_loss: 0.1955 - val_acc: 0.0000e+00 - 32ms/epoch - 11ms/step\n",
            "Epoch 4/100\n",
            "3/3 - 0s - loss: 0.0224 - acc: 0.0112 - val_loss: 0.1190 - val_acc: 0.0000e+00 - 33ms/epoch - 11ms/step\n",
            "Epoch 5/100\n",
            "3/3 - 0s - loss: 0.0127 - acc: 0.0112 - val_loss: 0.0692 - val_acc: 0.0000e+00 - 32ms/epoch - 11ms/step\n",
            "Epoch 6/100\n",
            "3/3 - 0s - loss: 0.0078 - acc: 0.0112 - val_loss: 0.0414 - val_acc: 0.0233 - 33ms/epoch - 11ms/step\n",
            "Epoch 7/100\n",
            "3/3 - 0s - loss: 0.0059 - acc: 0.0112 - val_loss: 0.0285 - val_acc: 0.0233 - 32ms/epoch - 11ms/step\n",
            "Epoch 8/100\n",
            "3/3 - 0s - loss: 0.0063 - acc: 0.0112 - val_loss: 0.0242 - val_acc: 0.0233 - 37ms/epoch - 12ms/step\n",
            "Epoch 9/100\n",
            "3/3 - 0s - loss: 0.0069 - acc: 0.0112 - val_loss: 0.0231 - val_acc: 0.0233 - 34ms/epoch - 11ms/step\n",
            "Epoch 10/100\n",
            "3/3 - 0s - loss: 0.0071 - acc: 0.0112 - val_loss: 0.0225 - val_acc: 0.0233 - 33ms/epoch - 11ms/step\n",
            "Epoch 11/100\n",
            "3/3 - 0s - loss: 0.0066 - acc: 0.0112 - val_loss: 0.0222 - val_acc: 0.0233 - 32ms/epoch - 11ms/step\n",
            "Epoch 12/100\n",
            "3/3 - 0s - loss: 0.0058 - acc: 0.0112 - val_loss: 0.0228 - val_acc: 0.0233 - 31ms/epoch - 10ms/step\n",
            "Epoch 13/100\n",
            "3/3 - 0s - loss: 0.0051 - acc: 0.0112 - val_loss: 0.0242 - val_acc: 0.0233 - 30ms/epoch - 10ms/step\n",
            "Epoch 14/100\n",
            "3/3 - 0s - loss: 0.0046 - acc: 0.0112 - val_loss: 0.0258 - val_acc: 0.0233 - 33ms/epoch - 11ms/step\n",
            "Epoch 15/100\n",
            "3/3 - 0s - loss: 0.0045 - acc: 0.0112 - val_loss: 0.0273 - val_acc: 0.0233 - 33ms/epoch - 11ms/step\n",
            "Epoch 16/100\n",
            "3/3 - 0s - loss: 0.0045 - acc: 0.0112 - val_loss: 0.0279 - val_acc: 0.0233 - 31ms/epoch - 10ms/step\n",
            "Epoch 17/100\n",
            "3/3 - 0s - loss: 0.0044 - acc: 0.0112 - val_loss: 0.0276 - val_acc: 0.0233 - 39ms/epoch - 13ms/step\n",
            "Epoch 18/100\n",
            "3/3 - 0s - loss: 0.0043 - acc: 0.0112 - val_loss: 0.0263 - val_acc: 0.0233 - 32ms/epoch - 11ms/step\n",
            "Epoch 19/100\n",
            "3/3 - 0s - loss: 0.0042 - acc: 0.0112 - val_loss: 0.0244 - val_acc: 0.0233 - 34ms/epoch - 11ms/step\n",
            "Epoch 20/100\n",
            "3/3 - 0s - loss: 0.0041 - acc: 0.0112 - val_loss: 0.0227 - val_acc: 0.0233 - 37ms/epoch - 12ms/step\n",
            "Epoch 21/100\n",
            "3/3 - 0s - loss: 0.0039 - acc: 0.0112 - val_loss: 0.0214 - val_acc: 0.0233 - 33ms/epoch - 11ms/step\n",
            "Epoch 22/100\n",
            "3/3 - 0s - loss: 0.0038 - acc: 0.0112 - val_loss: 0.0205 - val_acc: 0.0233 - 34ms/epoch - 11ms/step\n",
            "Epoch 23/100\n",
            "3/3 - 0s - loss: 0.0037 - acc: 0.0112 - val_loss: 0.0199 - val_acc: 0.0233 - 30ms/epoch - 10ms/step\n",
            "Epoch 24/100\n",
            "3/3 - 0s - loss: 0.0037 - acc: 0.0112 - val_loss: 0.0195 - val_acc: 0.0233 - 42ms/epoch - 14ms/step\n",
            "Epoch 25/100\n",
            "3/3 - 0s - loss: 0.0036 - acc: 0.0112 - val_loss: 0.0192 - val_acc: 0.0233 - 32ms/epoch - 11ms/step\n",
            "Epoch 26/100\n",
            "3/3 - 0s - loss: 0.0035 - acc: 0.0112 - val_loss: 0.0188 - val_acc: 0.0233 - 35ms/epoch - 12ms/step\n",
            "Epoch 27/100\n",
            "3/3 - 0s - loss: 0.0035 - acc: 0.0112 - val_loss: 0.0183 - val_acc: 0.0233 - 33ms/epoch - 11ms/step\n",
            "Epoch 28/100\n",
            "3/3 - 0s - loss: 0.0034 - acc: 0.0112 - val_loss: 0.0180 - val_acc: 0.0233 - 30ms/epoch - 10ms/step\n",
            "Epoch 29/100\n",
            "3/3 - 0s - loss: 0.0033 - acc: 0.0112 - val_loss: 0.0179 - val_acc: 0.0233 - 33ms/epoch - 11ms/step\n",
            "Epoch 30/100\n",
            "3/3 - 0s - loss: 0.0033 - acc: 0.0112 - val_loss: 0.0176 - val_acc: 0.0233 - 30ms/epoch - 10ms/step\n",
            "Epoch 31/100\n",
            "3/3 - 0s - loss: 0.0032 - acc: 0.0112 - val_loss: 0.0174 - val_acc: 0.0233 - 31ms/epoch - 10ms/step\n",
            "Epoch 32/100\n",
            "3/3 - 0s - loss: 0.0032 - acc: 0.0112 - val_loss: 0.0171 - val_acc: 0.0233 - 33ms/epoch - 11ms/step\n",
            "Epoch 33/100\n",
            "3/3 - 0s - loss: 0.0032 - acc: 0.0112 - val_loss: 0.0169 - val_acc: 0.0233 - 29ms/epoch - 10ms/step\n",
            "Epoch 34/100\n",
            "3/3 - 0s - loss: 0.0031 - acc: 0.0112 - val_loss: 0.0165 - val_acc: 0.0233 - 30ms/epoch - 10ms/step\n",
            "Epoch 35/100\n",
            "3/3 - 0s - loss: 0.0030 - acc: 0.0112 - val_loss: 0.0161 - val_acc: 0.0233 - 41ms/epoch - 14ms/step\n",
            "Epoch 36/100\n",
            "3/3 - 0s - loss: 0.0030 - acc: 0.0112 - val_loss: 0.0157 - val_acc: 0.0233 - 30ms/epoch - 10ms/step\n",
            "Epoch 37/100\n",
            "3/3 - 0s - loss: 0.0029 - acc: 0.0112 - val_loss: 0.0154 - val_acc: 0.0233 - 34ms/epoch - 11ms/step\n",
            "Epoch 38/100\n",
            "3/3 - 0s - loss: 0.0029 - acc: 0.0112 - val_loss: 0.0150 - val_acc: 0.0233 - 30ms/epoch - 10ms/step\n",
            "Epoch 39/100\n",
            "3/3 - 0s - loss: 0.0028 - acc: 0.0112 - val_loss: 0.0148 - val_acc: 0.0233 - 28ms/epoch - 9ms/step\n",
            "Epoch 40/100\n",
            "3/3 - 0s - loss: 0.0028 - acc: 0.0112 - val_loss: 0.0145 - val_acc: 0.0233 - 29ms/epoch - 10ms/step\n",
            "Epoch 41/100\n",
            "3/3 - 0s - loss: 0.0027 - acc: 0.0112 - val_loss: 0.0141 - val_acc: 0.0233 - 33ms/epoch - 11ms/step\n",
            "Epoch 42/100\n",
            "3/3 - 0s - loss: 0.0026 - acc: 0.0112 - val_loss: 0.0136 - val_acc: 0.0233 - 31ms/epoch - 10ms/step\n",
            "Epoch 43/100\n",
            "3/3 - 0s - loss: 0.0026 - acc: 0.0112 - val_loss: 0.0132 - val_acc: 0.0233 - 28ms/epoch - 9ms/step\n",
            "Epoch 44/100\n",
            "3/3 - 0s - loss: 0.0025 - acc: 0.0112 - val_loss: 0.0129 - val_acc: 0.0233 - 36ms/epoch - 12ms/step\n",
            "Epoch 45/100\n",
            "3/3 - 0s - loss: 0.0025 - acc: 0.0112 - val_loss: 0.0125 - val_acc: 0.0233 - 33ms/epoch - 11ms/step\n",
            "Epoch 46/100\n",
            "3/3 - 0s - loss: 0.0025 - acc: 0.0112 - val_loss: 0.0123 - val_acc: 0.0233 - 31ms/epoch - 10ms/step\n",
            "Epoch 47/100\n",
            "3/3 - 0s - loss: 0.0024 - acc: 0.0112 - val_loss: 0.0120 - val_acc: 0.0233 - 36ms/epoch - 12ms/step\n",
            "Epoch 48/100\n",
            "3/3 - 0s - loss: 0.0024 - acc: 0.0112 - val_loss: 0.0117 - val_acc: 0.0233 - 33ms/epoch - 11ms/step\n",
            "Epoch 49/100\n",
            "3/3 - 0s - loss: 0.0023 - acc: 0.0112 - val_loss: 0.0115 - val_acc: 0.0233 - 33ms/epoch - 11ms/step\n",
            "Epoch 50/100\n",
            "3/3 - 0s - loss: 0.0023 - acc: 0.0112 - val_loss: 0.0113 - val_acc: 0.0233 - 36ms/epoch - 12ms/step\n",
            "Epoch 51/100\n",
            "3/3 - 0s - loss: 0.0023 - acc: 0.0112 - val_loss: 0.0111 - val_acc: 0.0233 - 31ms/epoch - 10ms/step\n",
            "Epoch 52/100\n",
            "3/3 - 0s - loss: 0.0023 - acc: 0.0112 - val_loss: 0.0109 - val_acc: 0.0233 - 33ms/epoch - 11ms/step\n",
            "Epoch 53/100\n",
            "3/3 - 0s - loss: 0.0022 - acc: 0.0112 - val_loss: 0.0109 - val_acc: 0.0233 - 34ms/epoch - 11ms/step\n",
            "Epoch 54/100\n",
            "3/3 - 0s - loss: 0.0022 - acc: 0.0112 - val_loss: 0.0108 - val_acc: 0.0233 - 36ms/epoch - 12ms/step\n",
            "Epoch 55/100\n",
            "3/3 - 0s - loss: 0.0022 - acc: 0.0112 - val_loss: 0.0105 - val_acc: 0.0233 - 33ms/epoch - 11ms/step\n",
            "Epoch 56/100\n",
            "3/3 - 0s - loss: 0.0022 - acc: 0.0112 - val_loss: 0.0103 - val_acc: 0.0233 - 34ms/epoch - 11ms/step\n",
            "Epoch 57/100\n",
            "3/3 - 0s - loss: 0.0022 - acc: 0.0112 - val_loss: 0.0101 - val_acc: 0.0233 - 33ms/epoch - 11ms/step\n",
            "Epoch 58/100\n",
            "3/3 - 0s - loss: 0.0021 - acc: 0.0112 - val_loss: 0.0102 - val_acc: 0.0233 - 48ms/epoch - 16ms/step\n",
            "Epoch 59/100\n",
            "3/3 - 0s - loss: 0.0021 - acc: 0.0112 - val_loss: 0.0103 - val_acc: 0.0233 - 34ms/epoch - 11ms/step\n",
            "Epoch 60/100\n",
            "3/3 - 0s - loss: 0.0021 - acc: 0.0112 - val_loss: 0.0101 - val_acc: 0.0233 - 42ms/epoch - 14ms/step\n",
            "Epoch 61/100\n",
            "3/3 - 0s - loss: 0.0021 - acc: 0.0112 - val_loss: 0.0099 - val_acc: 0.0233 - 43ms/epoch - 14ms/step\n",
            "Epoch 62/100\n",
            "3/3 - 0s - loss: 0.0021 - acc: 0.0112 - val_loss: 0.0097 - val_acc: 0.0233 - 31ms/epoch - 10ms/step\n",
            "Epoch 63/100\n",
            "3/3 - 0s - loss: 0.0020 - acc: 0.0112 - val_loss: 0.0097 - val_acc: 0.0233 - 32ms/epoch - 11ms/step\n",
            "Epoch 64/100\n",
            "3/3 - 0s - loss: 0.0020 - acc: 0.0112 - val_loss: 0.0096 - val_acc: 0.0233 - 34ms/epoch - 11ms/step\n",
            "Epoch 65/100\n",
            "3/3 - 0s - loss: 0.0020 - acc: 0.0112 - val_loss: 0.0097 - val_acc: 0.0233 - 31ms/epoch - 10ms/step\n",
            "Epoch 66/100\n",
            "3/3 - 0s - loss: 0.0020 - acc: 0.0112 - val_loss: 0.0098 - val_acc: 0.0233 - 31ms/epoch - 10ms/step\n",
            "Epoch 67/100\n",
            "3/3 - 0s - loss: 0.0020 - acc: 0.0112 - val_loss: 0.0094 - val_acc: 0.0233 - 31ms/epoch - 10ms/step\n",
            "Epoch 68/100\n",
            "3/3 - 0s - loss: 0.0020 - acc: 0.0112 - val_loss: 0.0091 - val_acc: 0.0233 - 33ms/epoch - 11ms/step\n",
            "Epoch 69/100\n",
            "3/3 - 0s - loss: 0.0020 - acc: 0.0112 - val_loss: 0.0091 - val_acc: 0.0233 - 39ms/epoch - 13ms/step\n",
            "Epoch 70/100\n",
            "3/3 - 0s - loss: 0.0020 - acc: 0.0112 - val_loss: 0.0088 - val_acc: 0.0233 - 32ms/epoch - 11ms/step\n",
            "Epoch 71/100\n",
            "3/3 - 0s - loss: 0.0019 - acc: 0.0112 - val_loss: 0.0088 - val_acc: 0.0233 - 32ms/epoch - 11ms/step\n",
            "Epoch 72/100\n",
            "3/3 - 0s - loss: 0.0019 - acc: 0.0112 - val_loss: 0.0090 - val_acc: 0.0233 - 33ms/epoch - 11ms/step\n",
            "Epoch 73/100\n",
            "3/3 - 0s - loss: 0.0019 - acc: 0.0112 - val_loss: 0.0088 - val_acc: 0.0233 - 35ms/epoch - 12ms/step\n",
            "Epoch 74/100\n",
            "3/3 - 0s - loss: 0.0019 - acc: 0.0112 - val_loss: 0.0088 - val_acc: 0.0233 - 33ms/epoch - 11ms/step\n",
            "Epoch 75/100\n",
            "3/3 - 0s - loss: 0.0019 - acc: 0.0112 - val_loss: 0.0089 - val_acc: 0.0233 - 54ms/epoch - 18ms/step\n",
            "Epoch 76/100\n",
            "3/3 - 0s - loss: 0.0019 - acc: 0.0112 - val_loss: 0.0087 - val_acc: 0.0233 - 31ms/epoch - 10ms/step\n",
            "Epoch 77/100\n",
            "3/3 - 0s - loss: 0.0019 - acc: 0.0112 - val_loss: 0.0085 - val_acc: 0.0233 - 50ms/epoch - 17ms/step\n",
            "Epoch 78/100\n",
            "3/3 - 0s - loss: 0.0019 - acc: 0.0112 - val_loss: 0.0087 - val_acc: 0.0233 - 50ms/epoch - 17ms/step\n",
            "Epoch 79/100\n",
            "3/3 - 0s - loss: 0.0019 - acc: 0.0112 - val_loss: 0.0086 - val_acc: 0.0233 - 40ms/epoch - 13ms/step\n",
            "Epoch 80/100\n",
            "3/3 - 0s - loss: 0.0018 - acc: 0.0112 - val_loss: 0.0083 - val_acc: 0.0233 - 35ms/epoch - 12ms/step\n",
            "Epoch 81/100\n",
            "3/3 - 0s - loss: 0.0019 - acc: 0.0112 - val_loss: 0.0081 - val_acc: 0.0233 - 34ms/epoch - 11ms/step\n",
            "Epoch 82/100\n",
            "3/3 - 0s - loss: 0.0018 - acc: 0.0112 - val_loss: 0.0083 - val_acc: 0.0233 - 34ms/epoch - 11ms/step\n",
            "Epoch 83/100\n",
            "3/3 - 0s - loss: 0.0018 - acc: 0.0112 - val_loss: 0.0086 - val_acc: 0.0233 - 30ms/epoch - 10ms/step\n",
            "Epoch 84/100\n",
            "3/3 - 0s - loss: 0.0018 - acc: 0.0112 - val_loss: 0.0083 - val_acc: 0.0233 - 32ms/epoch - 11ms/step\n",
            "Epoch 85/100\n",
            "3/3 - 0s - loss: 0.0018 - acc: 0.0112 - val_loss: 0.0082 - val_acc: 0.0233 - 31ms/epoch - 10ms/step\n",
            "Epoch 86/100\n",
            "3/3 - 0s - loss: 0.0018 - acc: 0.0112 - val_loss: 0.0080 - val_acc: 0.0233 - 31ms/epoch - 10ms/step\n",
            "Epoch 87/100\n",
            "3/3 - 0s - loss: 0.0018 - acc: 0.0112 - val_loss: 0.0078 - val_acc: 0.0233 - 37ms/epoch - 12ms/step\n",
            "Epoch 88/100\n",
            "3/3 - 0s - loss: 0.0018 - acc: 0.0112 - val_loss: 0.0080 - val_acc: 0.0233 - 34ms/epoch - 11ms/step\n",
            "Epoch 89/100\n",
            "3/3 - 0s - loss: 0.0018 - acc: 0.0112 - val_loss: 0.0080 - val_acc: 0.0233 - 37ms/epoch - 12ms/step\n",
            "Epoch 90/100\n",
            "3/3 - 0s - loss: 0.0017 - acc: 0.0112 - val_loss: 0.0081 - val_acc: 0.0233 - 29ms/epoch - 10ms/step\n",
            "Epoch 91/100\n",
            "3/3 - 0s - loss: 0.0017 - acc: 0.0112 - val_loss: 0.0083 - val_acc: 0.0233 - 31ms/epoch - 10ms/step\n",
            "Epoch 92/100\n",
            "3/3 - 0s - loss: 0.0017 - acc: 0.0112 - val_loss: 0.0080 - val_acc: 0.0233 - 35ms/epoch - 12ms/step\n",
            "Epoch 93/100\n",
            "3/3 - 0s - loss: 0.0017 - acc: 0.0112 - val_loss: 0.0077 - val_acc: 0.0233 - 31ms/epoch - 10ms/step\n",
            "Epoch 94/100\n",
            "3/3 - 0s - loss: 0.0017 - acc: 0.0112 - val_loss: 0.0075 - val_acc: 0.0233 - 30ms/epoch - 10ms/step\n",
            "Epoch 95/100\n",
            "3/3 - 0s - loss: 0.0017 - acc: 0.0112 - val_loss: 0.0076 - val_acc: 0.0233 - 31ms/epoch - 10ms/step\n",
            "Epoch 96/100\n",
            "3/3 - 0s - loss: 0.0017 - acc: 0.0112 - val_loss: 0.0076 - val_acc: 0.0233 - 33ms/epoch - 11ms/step\n",
            "Epoch 97/100\n",
            "3/3 - 0s - loss: 0.0017 - acc: 0.0112 - val_loss: 0.0077 - val_acc: 0.0233 - 33ms/epoch - 11ms/step\n",
            "Epoch 98/100\n",
            "3/3 - 0s - loss: 0.0017 - acc: 0.0112 - val_loss: 0.0075 - val_acc: 0.0233 - 33ms/epoch - 11ms/step\n",
            "Epoch 99/100\n",
            "3/3 - 0s - loss: 0.0017 - acc: 0.0112 - val_loss: 0.0074 - val_acc: 0.0233 - 33ms/epoch - 11ms/step\n",
            "Epoch 100/100\n",
            "3/3 - 0s - loss: 0.0017 - acc: 0.0112 - val_loss: 0.0071 - val_acc: 0.0233 - 31ms/epoch - 10ms/step\n"
          ]
        },
        {
          "output_type": "execute_result",
          "data": {
            "text/plain": [
              "<keras.callbacks.History at 0x7f6ead66c040>"
            ]
          },
          "metadata": {},
          "execution_count": 19
        }
      ]
    },
    {
      "cell_type": "code",
      "source": [
        "trainPredict = model.predict(train_X)\n",
        "testPredict = model.predict(test_X)"
      ],
      "metadata": {
        "colab": {
          "base_uri": "https://localhost:8080/"
        },
        "id": "12d6RC79a9Rq",
        "outputId": "89d1c7c1-a208-4094-97dd-a3c5b5a32c08"
      },
      "execution_count": null,
      "outputs": [
        {
          "output_type": "stream",
          "name": "stdout",
          "text": [
            "3/3 [==============================] - 0s 6ms/step\n",
            "2/2 [==============================] - 0s 6ms/step\n"
          ]
        }
      ]
    },
    {
      "cell_type": "code",
      "source": [
        "trainPredict = scaler.inverse_transform(trainPredict)\n",
        "trainY_inverse = scaler.inverse_transform([train_y])"
      ],
      "metadata": {
        "id": "ijTpDcsHbCjL"
      },
      "execution_count": null,
      "outputs": []
    },
    {
      "cell_type": "code",
      "source": [
        "testPredict = scaler.inverse_transform(testPredict)\n",
        "testY_inverse = scaler.inverse_transform([test_y])"
      ],
      "metadata": {
        "id": "Unh_mxv8bMMd"
      },
      "execution_count": null,
      "outputs": []
    },
    {
      "cell_type": "code",
      "source": [
        "trainScore = math.sqrt(mean_squared_error(trainY_inverse[0],trainPredict[:,0]))\n",
        "print(f'Train Score : {trainScore} RMSE')"
      ],
      "metadata": {
        "colab": {
          "base_uri": "https://localhost:8080/"
        },
        "id": "xzOgERe1bOnF",
        "outputId": "059d8982-a897-40fa-e1fe-a72c2ee9fc5d"
      },
      "execution_count": null,
      "outputs": [
        {
          "output_type": "stream",
          "name": "stdout",
          "text": [
            "Train Score : 21.210930741147674 RMSE\n"
          ]
        }
      ]
    },
    {
      "cell_type": "code",
      "source": [
        "testScore = math.sqrt(mean_squared_error(testY_inverse[0], testPredict[:,0]))\n",
        "print(f'Test Score : {testScore} RMSE')"
      ],
      "metadata": {
        "colab": {
          "base_uri": "https://localhost:8080/"
        },
        "id": "vPfOcw8mbQbp",
        "outputId": "0d89d850-a5d4-4add-d5ce-348a8a957ba1"
      },
      "execution_count": null,
      "outputs": [
        {
          "output_type": "stream",
          "name": "stdout",
          "text": [
            "Test Score : 43.766612673424525 RMSE\n"
          ]
        }
      ]
    },
    {
      "cell_type": "code",
      "source": [
        "trainPredictPlot = np.empty_like(dataset)\n",
        "trainPredictPlot[:,:] = np.nan\n",
        "trainPredictPlot[seq_size : len(trainPredict)+seq_size , :] = trainPredict"
      ],
      "metadata": {
        "id": "RiHwY45UbYhf"
      },
      "execution_count": null,
      "outputs": []
    },
    {
      "cell_type": "code",
      "source": [
        "testPredictPlot = np.empty_like(dataset)\n",
        "testPredictPlot[:, :] = np.nan\n",
        "testPredictPlot[len(trainPredict)+(seq_size*2)+1:len(dataset)-1, :] = testPredict"
      ],
      "metadata": {
        "id": "2Vtv9MSBbbrT"
      },
      "execution_count": null,
      "outputs": []
    },
    {
      "cell_type": "code",
      "source": [
        "plt.plot(scaler.inverse_transform(dataset))\n",
        "plt.plot(trainPredictPlot)\n",
        "plt.plot(testPredictPlot)\n",
        "plt.show()"
      ],
      "metadata": {
        "colab": {
          "base_uri": "https://localhost:8080/",
          "height": 265
        },
        "id": "agRI3MgRbr9X",
        "outputId": "f6db21e1-738b-44e0-fd0a-340da756a5c9"
      },
      "execution_count": null,
      "outputs": [
        {
          "output_type": "display_data",
          "data": {
            "text/plain": [
              "<Figure size 432x288 with 1 Axes>"
            ],
            "image/png": "[encoded data removed]"
          },
          "metadata": {
            "needs_background": "light"
          }
        }
      ]
    },
    {
      "cell_type": "code",
      "source": [],
      "metadata": {
        "id": "C2hgq4UAbxZX"
      },
      "execution_count": null,
      "outputs": []
    }
  ]
}